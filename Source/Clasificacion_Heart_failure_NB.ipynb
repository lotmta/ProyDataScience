{
 "cells": [
  {
   "cell_type": "code",
   "execution_count": 1,
   "id": "614f512c",
   "metadata": {},
   "outputs": [],
   "source": [
    "# Origen y descripción de conjunto de datos:\n",
    "# https://archive.ics.uci.edu/ml/datasets/Heart+failure+clinical+records"
   ]
  },
  {
   "cell_type": "code",
   "execution_count": 2,
   "id": "975293da",
   "metadata": {},
   "outputs": [],
   "source": [
    "# Importar librerías\n",
    "import pandas as pd\n",
    "# Importar SVM, en scikit-learn se llama Support Vector Classifier (SVC)\n",
    "from sklearn.svm import SVC\n",
    "# Importar objeto para k-fold cross-validation con búsqueda aleatoria de hyperparámetros\n",
    "from sklearn.model_selection import RandomizedSearchCV\n",
    "# Importar objeto para separación de datos en conjuntos de entrenamiento y evaluación\n",
    "from sklearn.model_selection import train_test_split\n",
    "# Obtener valore de una distribución uniforme\n",
    "from scipy.stats import uniform, expon\n",
    "# Importar objeto para escalamiento de datos\n",
    "from sklearn.preprocessing import StandardScaler\n",
    "# Importar metricas de evaluación\n",
    "from sklearn.metrics import f1_score, precision_score, recall_score, roc_auc_score, roc_curve\n",
    "# Importar objeto para imprimir matriz de confusión\n",
    "from sklearn.metrics import confusion_matrix\n",
    "# Importar objeto para imprimir reporte de clasificación \n",
    "from sklearn.metrics import classification_report\n",
    "# Plots\n",
    "import matplotlib.pyplot as plt\n",
    "# Import object to plot Precision-Recall curve\n",
    "from sklearn.metrics import PrecisionRecallDisplay\n",
    "import numpy\n",
    "from sklearn.naive_bayes import BernoulliNB"
   ]
  },
  {
   "cell_type": "code",
   "execution_count": 3,
   "id": "be5deec7",
   "metadata": {},
   "outputs": [
    {
     "data": {
      "text/html": [
       "<div>\n",
       "<style scoped>\n",
       "    .dataframe tbody tr th:only-of-type {\n",
       "        vertical-align: middle;\n",
       "    }\n",
       "\n",
       "    .dataframe tbody tr th {\n",
       "        vertical-align: top;\n",
       "    }\n",
       "\n",
       "    .dataframe thead th {\n",
       "        text-align: right;\n",
       "    }\n",
       "</style>\n",
       "<table border=\"1\" class=\"dataframe\">\n",
       "  <thead>\n",
       "    <tr style=\"text-align: right;\">\n",
       "      <th></th>\n",
       "      <th>age</th>\n",
       "      <th>anaemia</th>\n",
       "      <th>creatinine_phosphokinase</th>\n",
       "      <th>diabetes</th>\n",
       "      <th>ejection_fraction</th>\n",
       "      <th>high_blood_pressure</th>\n",
       "      <th>platelets</th>\n",
       "      <th>serum_creatinine</th>\n",
       "      <th>serum_sodium</th>\n",
       "      <th>sex</th>\n",
       "      <th>smoking</th>\n",
       "      <th>time</th>\n",
       "      <th>DEATH_EVENT</th>\n",
       "    </tr>\n",
       "  </thead>\n",
       "  <tbody>\n",
       "    <tr>\n",
       "      <th>0</th>\n",
       "      <td>75.0</td>\n",
       "      <td>0</td>\n",
       "      <td>582</td>\n",
       "      <td>0</td>\n",
       "      <td>20</td>\n",
       "      <td>1</td>\n",
       "      <td>265000.00</td>\n",
       "      <td>1.9</td>\n",
       "      <td>130</td>\n",
       "      <td>1</td>\n",
       "      <td>0</td>\n",
       "      <td>4</td>\n",
       "      <td>1</td>\n",
       "    </tr>\n",
       "    <tr>\n",
       "      <th>1</th>\n",
       "      <td>55.0</td>\n",
       "      <td>0</td>\n",
       "      <td>7861</td>\n",
       "      <td>0</td>\n",
       "      <td>38</td>\n",
       "      <td>0</td>\n",
       "      <td>263358.03</td>\n",
       "      <td>1.1</td>\n",
       "      <td>136</td>\n",
       "      <td>1</td>\n",
       "      <td>0</td>\n",
       "      <td>6</td>\n",
       "      <td>1</td>\n",
       "    </tr>\n",
       "    <tr>\n",
       "      <th>2</th>\n",
       "      <td>65.0</td>\n",
       "      <td>0</td>\n",
       "      <td>146</td>\n",
       "      <td>0</td>\n",
       "      <td>20</td>\n",
       "      <td>0</td>\n",
       "      <td>162000.00</td>\n",
       "      <td>1.3</td>\n",
       "      <td>129</td>\n",
       "      <td>1</td>\n",
       "      <td>1</td>\n",
       "      <td>7</td>\n",
       "      <td>1</td>\n",
       "    </tr>\n",
       "    <tr>\n",
       "      <th>3</th>\n",
       "      <td>50.0</td>\n",
       "      <td>1</td>\n",
       "      <td>111</td>\n",
       "      <td>0</td>\n",
       "      <td>20</td>\n",
       "      <td>0</td>\n",
       "      <td>210000.00</td>\n",
       "      <td>1.9</td>\n",
       "      <td>137</td>\n",
       "      <td>1</td>\n",
       "      <td>0</td>\n",
       "      <td>7</td>\n",
       "      <td>1</td>\n",
       "    </tr>\n",
       "    <tr>\n",
       "      <th>4</th>\n",
       "      <td>65.0</td>\n",
       "      <td>1</td>\n",
       "      <td>160</td>\n",
       "      <td>1</td>\n",
       "      <td>20</td>\n",
       "      <td>0</td>\n",
       "      <td>327000.00</td>\n",
       "      <td>2.7</td>\n",
       "      <td>116</td>\n",
       "      <td>0</td>\n",
       "      <td>0</td>\n",
       "      <td>8</td>\n",
       "      <td>1</td>\n",
       "    </tr>\n",
       "    <tr>\n",
       "      <th>5</th>\n",
       "      <td>90.0</td>\n",
       "      <td>1</td>\n",
       "      <td>47</td>\n",
       "      <td>0</td>\n",
       "      <td>40</td>\n",
       "      <td>1</td>\n",
       "      <td>204000.00</td>\n",
       "      <td>2.1</td>\n",
       "      <td>132</td>\n",
       "      <td>1</td>\n",
       "      <td>1</td>\n",
       "      <td>8</td>\n",
       "      <td>1</td>\n",
       "    </tr>\n",
       "  </tbody>\n",
       "</table>\n",
       "</div>"
      ],
      "text/plain": [
       "    age  anaemia  creatinine_phosphokinase  diabetes  ejection_fraction  \\\n",
       "0  75.0        0                       582         0                 20   \n",
       "1  55.0        0                      7861         0                 38   \n",
       "2  65.0        0                       146         0                 20   \n",
       "3  50.0        1                       111         0                 20   \n",
       "4  65.0        1                       160         1                 20   \n",
       "5  90.0        1                        47         0                 40   \n",
       "\n",
       "   high_blood_pressure  platelets  serum_creatinine  serum_sodium  sex  \\\n",
       "0                    1  265000.00               1.9           130    1   \n",
       "1                    0  263358.03               1.1           136    1   \n",
       "2                    0  162000.00               1.3           129    1   \n",
       "3                    0  210000.00               1.9           137    1   \n",
       "4                    0  327000.00               2.7           116    0   \n",
       "5                    1  204000.00               2.1           132    1   \n",
       "\n",
       "   smoking  time  DEATH_EVENT  \n",
       "0        0     4            1  \n",
       "1        0     6            1  \n",
       "2        1     7            1  \n",
       "3        0     7            1  \n",
       "4        0     8            1  \n",
       "5        1     8            1  "
      ]
     },
     "execution_count": 3,
     "metadata": {},
     "output_type": "execute_result"
    }
   ],
   "source": [
    "# Leer datos en dataframe\n",
    "data = pd.read_csv(\"../heart_failure_clinical_records_dataset.csv\")\n",
    "data.head(6)"
   ]
  },
  {
   "cell_type": "code",
   "execution_count": 4,
   "id": "7e586705",
   "metadata": {},
   "outputs": [
    {
     "data": {
      "text/plain": [
       "array([1, 0], dtype=int64)"
      ]
     },
     "execution_count": 4,
     "metadata": {},
     "output_type": "execute_result"
    }
   ],
   "source": [
    "# Verificar categorías de clase\n",
    "data['DEATH_EVENT'].unique()"
   ]
  },
  {
   "cell_type": "code",
   "execution_count": 5,
   "id": "40d8fbb0",
   "metadata": {},
   "outputs": [
    {
     "data": {
      "text/plain": [
       "(299, 13)"
      ]
     },
     "execution_count": 5,
     "metadata": {},
     "output_type": "execute_result"
    }
   ],
   "source": [
    "# Verificar dimensionalidad de datos\n",
    "data.shape"
   ]
  },
  {
   "cell_type": "code",
   "execution_count": 6,
   "id": "20e5af2c",
   "metadata": {},
   "outputs": [
    {
     "name": "stdout",
     "output_type": "stream",
     "text": [
      "DEATH_EVENT\n",
      "0    203\n",
      "1     96\n",
      "dtype: int64\n"
     ]
    }
   ],
   "source": [
    "# Verificar ejemplos por categoría\n",
    "print(data.groupby('DEATH_EVENT').size())"
   ]
  },
  {
   "cell_type": "code",
   "execution_count": 7,
   "id": "1f2918f2",
   "metadata": {},
   "outputs": [
    {
     "name": "stdout",
     "output_type": "stream",
     "text": [
      "Datos\n",
      "    age  anaemia  ejection_fraction  high_blood_pressure  serum_creatinine  \\\n",
      "0  75.0        0                 20                    1               1.9   \n",
      "1  55.0        0                 38                    0               1.1   \n",
      "2  65.0        0                 20                    0               1.3   \n",
      "3  50.0        1                 20                    0               1.9   \n",
      "4  65.0        1                 20                    0               2.7   \n",
      "\n",
      "   serum_sodium  \n",
      "0           130  \n",
      "1           136  \n",
      "2           129  \n",
      "3           137  \n",
      "4           116  \n",
      "Categorias de clase\n",
      "0    1\n",
      "1    1\n",
      "2    1\n",
      "3    1\n",
      "4    1\n",
      "Name: DEATH_EVENT, dtype: int64\n"
     ]
    }
   ],
   "source": [
    "# Preparar datos\n",
    "# X = sólo datos de características de ejemplos\n",
    "# y = categorías de clase para cada ejemplo\n",
    "X = data.iloc[:,[0,1,4,5,7,8]]  # all rows, all the features and no labels\n",
    "y = data.iloc[:, 12]  # all rows, label only\n",
    "print(\"Datos\")\n",
    "print(X.head())\n",
    "print(\"Categorias de clase\")\n",
    "print(y.head())"
   ]
  },
  {
   "cell_type": "code",
   "execution_count": 8,
   "id": "6cb47423",
   "metadata": {},
   "outputs": [
    {
     "name": "stdout",
     "output_type": "stream",
     "text": [
      "Datos\n",
      "[[ 1.19294523 -0.87110478 -1.53055953  1.35927151  0.49005699 -1.50403612]\n",
      " [-0.49127928 -0.87110478 -0.00707675 -0.73568819 -0.28455235 -0.14197615]\n",
      " [ 0.35083298 -0.87110478 -1.53055953 -0.73568819 -0.09090002 -1.73104612]\n",
      " ...\n",
      " [-1.33339153 -0.87110478  1.85495776 -0.73568819 -0.57503085  0.31204384]\n",
      " [-1.33339153 -0.87110478 -0.00707675 -0.73568819  0.00592615  0.76606383]\n",
      " [-0.9123354  -0.87110478  0.58538877 -0.73568819  0.19957848 -0.14197615]]\n"
     ]
    }
   ],
   "source": [
    "# Escalamiento de datos\n",
    "scaler = StandardScaler()\n",
    "scaler.fit(X)\n",
    "X = scaler.transform(X)\n",
    "print(\"Datos\")\n",
    "print(X)"
   ]
  },
  {
   "cell_type": "code",
   "execution_count": 9,
   "id": "2cc3ff73",
   "metadata": {},
   "outputs": [],
   "source": [
    "# Separación de datos en conjuntos de entrenamiento y evaluación\n",
    "\n",
    "X_train, X_test, y_train, y_test = train_test_split(X,y,test_size=0.2,random_state=0)"
   ]
  },
  {
   "cell_type": "code",
   "execution_count": 10,
   "id": "91bd7e65",
   "metadata": {},
   "outputs": [],
   "source": [
    "# SVM\n",
    "\n",
    "svm_model= BernoulliNB()\n",
    "\n",
    "# The gamma parameter defines how far the influence of a single training example reaches, \n",
    "# with low values meaning ‘far’ and high values meaning ‘close’. \n",
    "# The gamma parameters can be seen as the inverse of the radius of influence of \n",
    "# samples selected by the model as support vectors.\n",
    "\n",
    "# The C parameter trades off misclassification of training examples against \n",
    "# simplicity of the decision surface. \n",
    "# A low C makes the decision surface smooth, \n",
    "# while a high C aims at classifying all training examples correctly \n",
    "# by giving the model freedom to select more samples as support vectors.\n",
    "\n",
    "search_parameters = {}"
   ]
  },
  {
   "cell_type": "code",
   "execution_count": 11,
   "id": "31f0a4ac",
   "metadata": {},
   "outputs": [
    {
     "name": "stderr",
     "output_type": "stream",
     "text": [
      "c:\\Users\\ulise\\AppData\\Local\\Programs\\Python\\Python310\\lib\\site-packages\\sklearn\\model_selection\\_search.py:305: UserWarning: The total space of parameters 1 is smaller than n_iter=10. Running 1 iterations. For exhaustive searches, use GridSearchCV.\n",
      "  warnings.warn(\n"
     ]
    },
    {
     "name": "stdout",
     "output_type": "stream",
     "text": [
      "Fitting 5 folds for each of 1 candidates, totalling 5 fits\n"
     ]
    }
   ],
   "source": [
    "clf = RandomizedSearchCV(svm_model, search_parameters, random_state=0, cv=5, \n",
    "                                    scoring='f1_weighted', verbose=2, n_jobs=-1)\n",
    "classifier = clf.fit(X_train, y_train)"
   ]
  },
  {
   "cell_type": "code",
   "execution_count": 12,
   "id": "be687bd9",
   "metadata": {},
   "outputs": [
    {
     "name": "stdout",
     "output_type": "stream",
     "text": [
      "Mejor F-1 weighted score\n",
      "0.701999632654669\n",
      "Mejores hyperparámetros\n",
      "{}\n"
     ]
    }
   ],
   "source": [
    "# Verificamos resultados de entrenamiento y cross-validation\n",
    "print(\"Mejor F-1 weighted score\")\n",
    "print(classifier.best_score_)\n",
    "print(\"Mejores hyperparámetros\")\n",
    "print(classifier.best_params_)"
   ]
  },
  {
   "cell_type": "code",
   "execution_count": 13,
   "id": "a7dbc3db",
   "metadata": {},
   "outputs": [
    {
     "name": "stdout",
     "output_type": "stream",
     "text": [
      "Resultados de evaluación\n",
      "F-1 weighted: 0.6582386363636364\n",
      "Precision: 0.7777777777777778\n",
      "Recall: 0.43750000000000006\n",
      "AUROC: 0.6251468860164513\n"
     ]
    }
   ],
   "source": [
    "# Evaluación\n",
    "y_pred= classifier.predict(X_test)\n",
    "print(\"Resultados de evaluación\")\n",
    "print(\"F-1 weighted: {}\".format(f1_score(y_test, y_pred, average='weighted')))\n",
    "print(\"Precision: {}\".format(precision_score(y_test, y_pred)))\n",
    "print(\"Recall: {}\".format(f1_score(y_test, y_pred)))\n",
    "print(\"AUROC: {}\".format(roc_auc_score(y_test, y_pred, average='weighted')))"
   ]
  },
  {
   "cell_type": "code",
   "execution_count": 14,
   "id": "e169aec4",
   "metadata": {},
   "outputs": [
    {
     "name": "stdout",
     "output_type": "stream",
     "text": [
      "[[35  2]\n",
      " [16  7]]\n"
     ]
    }
   ],
   "source": [
    "# Matriz de confusión\n",
    "confusion_matrix=confusion_matrix(y_test,y_pred)\n",
    "print(confusion_matrix)"
   ]
  },
  {
   "cell_type": "code",
   "execution_count": 15,
   "id": "60cff65f",
   "metadata": {},
   "outputs": [
    {
     "name": "stdout",
     "output_type": "stream",
     "text": [
      "              precision    recall  f1-score   support\n",
      "\n",
      "           0       0.69      0.95      0.80        37\n",
      "           1       0.78      0.30      0.44        23\n",
      "\n",
      "    accuracy                           0.70        60\n",
      "   macro avg       0.73      0.63      0.62        60\n",
      "weighted avg       0.72      0.70      0.66        60\n",
      "\n"
     ]
    }
   ],
   "source": [
    "# Reporte de clasificación\n",
    "print(classification_report(y_test,y_pred))"
   ]
  },
  {
   "cell_type": "code",
   "execution_count": 16,
   "id": "ff8c5d0f",
   "metadata": {},
   "outputs": [
    {
     "data": {
      "text/plain": [
       "Text(0.5, 0, 'False Positive Rate')"
      ]
     },
     "execution_count": 16,
     "metadata": {},
     "output_type": "execute_result"
    },
    {
     "data": {
      "image/png": "[encoded data removed]",
      "text/plain": [
       "<Figure size 1000x1000 with 1 Axes>"
      ]
     },
     "metadata": {},
     "output_type": "display_data"
    }
   ],
   "source": [
    "# Plot ROC curve\n",
    "\n",
    "false_positive_rate, true_positive_rate, thresholds = roc_curve(y_test, y_pred)\n",
    "auc_roc = roc_auc_score(y_test, y_pred, average='weighted')\n",
    "plt.figure(figsize=(10,10))\n",
    "plt.title('Receiver Operating Characteristic')\n",
    "plt.plot(false_positive_rate,true_positive_rate, color='red',label = 'AUC = %0.2f' % auc_roc)\n",
    "plt.legend(loc = 'lower right')\n",
    "plt.plot([0, 1], [0, 1],linestyle='--')\n",
    "plt.axis('tight')\n",
    "plt.ylabel('True Positive Rate')\n",
    "plt.xlabel('False Positive Rate')"
   ]
  },
  {
   "cell_type": "code",
   "execution_count": null,
   "id": "93f22bd8",
   "metadata": {},
   "outputs": [],
   "source": []
  }
 ],
 "metadata": {
  "kernelspec": {
   "display_name": "Python 3",
   "language": "python",
   "name": "python3"
  },
  "language_info": {
   "codemirror_mode": {
    "name": "ipython",
    "version": 3
   },
   "file_extension": ".py",
   "mimetype": "text/x-python",
   "name": "python",
   "nbconvert_exporter": "python",
   "pygments_lexer": "ipython3",
   "version": "3.10.2"
  }
 },
 "nbformat": 4,
 "nbformat_minor": 5
}
